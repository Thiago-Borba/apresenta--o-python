{
 "cells": [
  {
   "cell_type": "markdown",
   "metadata": {},
   "source": [
    "# Academia de Business Analytics    -    Workshop Python "
   ]
  },
  {
   "cell_type": "markdown",
   "metadata": {},
   "source": [
    "# Vamos falar sobre:\n",
    "    - Função Print e Função Help\n",
    "    - Tipos de Dados\n",
    "    - Sinais de Operação e Operadores Lógicos\n",
    "    - Variáveis e Listas\n",
    "    - Condições: if, in e not in"
   ]
  },
  {
   "cell_type": "markdown",
   "metadata": {},
   "source": [
    "## Função Print() \n",
    "    Em todas as linguagens de programação, foram definidas algumas funções e existe a capacidade do programador criar as suas próprias funções.\n",
    "    \n",
    "    As funções são partes do código capazes de:\n",
    "        - Causar algum efeito (p.e., escrever algo no terminal ou criar um ficheiro, etc.)\n",
    "        - Avaliar um ou mais valores (p.e., valores matemáticos, valores lógicos, tamanho de uma determinada palavra, etc.)\n",
    "        \n",
    "    Para além do resultado das funções, existe outra componente essencial, os argumentos. Cada função é definida com um determinado número de argumentos para que seja possível realizar a tarefa e apresentar um resultado.\n",
    "        Nota: Algumas funções podem não ter argumentos, outras podem ter um valor predefinido para o caso de um dos argumentos não ser definido.\n",
    "        \n",
    "### Função Print:\n",
    "       A função Print() é conhecida como a função mais simples, mas nem por isso deixa de ser útil. Serve para passar os seus argumentos no terminal.\n",
    "           Exemplo: Print(\"Olá a todos\")\n",
    "\n",
    "### Função Help:\n",
    "       A função Help() funciona como uma busca num dicionário, fornecendo documentação sobre todas as funções, módulos, classes etc.\n",
    "           Exemplo: Help(Print)\n"
   ]
  },
  {
   "cell_type": "code",
   "execution_count": 6,
   "metadata": {
    "scrolled": false
   },
   "outputs": [
    {
     "name": "stdout",
     "output_type": "stream",
     "text": [
      "Help on built-in function print in module builtins:\n",
      "\n",
      "print(...)\n",
      "    print(value, ..., sep=' ', end='\\n', file=sys.stdout, flush=False)\n",
      "    \n",
      "    Prints the values to a stream, or to sys.stdout by default.\n",
      "    Optional keyword arguments:\n",
      "    file:  a file-like object (stream); defaults to the current sys.stdout.\n",
      "    sep:   string inserted between values, default a space.\n",
      "    end:   string appended after the last value, default a newline.\n",
      "    flush: whether to forcibly flush the stream.\n",
      "\n"
     ]
    }
   ],
   "source": [
    "help(print)"
   ]
  },
  {
   "cell_type": "code",
   "execution_count": 7,
   "metadata": {
    "scrolled": true
   },
   "outputs": [
    {
     "name": "stdout",
     "output_type": "stream",
     "text": [
      "Olá a todos\n"
     ]
    }
   ],
   "source": [
    "print(\"Olá a todos\")"
   ]
  },
  {
   "cell_type": "markdown",
   "metadata": {},
   "source": [
    "## Função Print() \n",
    "   A função Print() pode receber vários argumentos e é possível definir como são separados os argumentos no terminal através da keyword sep\n",
    "       \n",
    "       Exemplo: print(\"O\", \"meu\", \"nome\", \"é\", \"Monty\", \"Python.\", sep=\"-\")\n"
   ]
  },
  {
   "cell_type": "code",
   "execution_count": 10,
   "metadata": {},
   "outputs": [
    {
     "name": "stdout",
     "output_type": "stream",
     "text": [
      "O-meu-nome-é-Monty-Python.\n"
     ]
    }
   ],
   "source": [
    "print(\"O\", \"meu\", \"nome\", \"é\", \"Monty\", \"Python.\", sep=\"-\")"
   ]
  },
  {
   "cell_type": "markdown",
   "metadata": {},
   "source": [
    "## Função Print() \n",
    "  Backslash (\\)\n",
    "  \n",
    "  É um carater especial que anuncia que o próximo carater tem um significado diferente.\n",
    "      Exemplo: print(\"Olá a todos \\nO meu nome é Filipe\")\n",
    "  (\\n) significa newline character, isto é, começa uma nova linha de output.\n"
   ]
  },
  {
   "cell_type": "code",
   "execution_count": 15,
   "metadata": {
    "scrolled": false
   },
   "outputs": [
    {
     "name": "stdout",
     "output_type": "stream",
     "text": [
      "Olá a todos \n",
      "O meu nome é Filipe\n"
     ]
    }
   ],
   "source": [
    "print(\"Olá a todos \\nO meu nome é Filipe\")"
   ]
  },
  {
   "cell_type": "code",
   "execution_count": 19,
   "metadata": {},
   "outputs": [
    {
     "name": "stdout",
     "output_type": "stream",
     "text": [
      "H-E-L-L-O\n",
      "-W-O-R-L-D\n"
     ]
    }
   ],
   "source": [
    "print(\"H\", \"E\", \"L\", \"L\", \"O\\n\", \"W\", \"O\", \"R\", \"L\", \"D\", sep=\"-\")"
   ]
  },
  {
   "cell_type": "code",
   "execution_count": 20,
   "metadata": {},
   "outputs": [
    {
     "name": "stdout",
     "output_type": "stream",
     "text": [
      "H-E-L-L-O\n",
      "W-O-R-L-D\n"
     ]
    }
   ],
   "source": [
    "print(\"H\", \"E\", \"L\", \"L\", \"O\\nW\", \"O\", \"R\", \"L\", \"D\", sep=\"-\")"
   ]
  },
  {
   "cell_type": "markdown",
   "metadata": {},
   "source": [
    "## Tipos de Dados \n",
    "    Existem 4 grandes tipos de dados:\n",
    "        - Integer, ou Int\n",
    "        - Float\n",
    "        - String\n",
    "        - Boolean\n",
    "        \n",
    "#### Integer:\n",
    "    Representam números inteiros, ou seja, números sem componente decimal.\n",
    "        256 ou -1\n",
    "\n",
    "#### Float:\n",
    "    Representam números fracionários, ou seja, números com casas decimais.\n",
    "        1.27 ou -5.84\n",
    "\n",
    "#### String:\n",
    "    As strings são utilizadas para processar texto, como nomes, ruas, etc.\n",
    "    Para processar strings é obrigatório utilizar aspas, como já fizemos anteriormente\n",
    "        \"Olá a todos\"\n",
    "\n",
    "#### Boolean:\n",
    "    É um tipo de dados primitivos que serve para avaliar uma condição como sendo Verdadeira (True) ou Falsa (False)\n",
    "    \n",
    "    \n",
    "    \n",
    "\n",
    "## Quais são os tipos de dados dos seguintes quatro exemplos?\n",
    "    \"1.5\", 2.0, 528, False\n",
    "\n"
   ]
  },
  {
   "cell_type": "code",
   "execution_count": null,
   "metadata": {},
   "outputs": [],
   "source": [
    "#escreve aqui o teu código e faz algumas experiências"
   ]
  },
  {
   "cell_type": "markdown",
   "metadata": {},
   "source": [
    "## Os sinais de operação em Python \n",
    "    Funcionam de maneira semelhante ao que já estamos habituados:\n",
    "\n",
    "    Operador\t         Operação\n",
    "\n",
    "    +, -             (Adição,Subtração)\t\n",
    "    **\t           (Expoente)\n",
    "    *, /, //, %      (Multiplicação, Divisão, Divisão Inteira, \"Módulo\") \n",
    "    <, <=, >, >=\t (Menor, Menor ou Igual, Maior, Maior ou igual)\n",
    "    ==, !=\t       (Igual, Diferente)\n",
    "\n",
    "    Os operadores mais peculiares são:\n",
    "       % - o módulo: divide o operador esquerdo pelo operador direito e tem como resultado o resto da divisão. \n",
    "           Exemplo:\n",
    "               5 % 2 = 1\n",
    "               6 % 2 = 0\n",
    "       // - a divisão inteira - tem como resultado o número resultante da divisão arredondado ao número inteiro mais próximo.\n",
    "           Exemplo:\n",
    "               7 // 3 = 2\n",
    "       \n",
    "### Atalhos para operações\n",
    "    Atalho   Exemplo\n",
    "    +=       a = a + 1\n",
    "    -=       a = a - 1\n",
    "    *=       a = a * 1\n",
    "    /=       a = a / 1\n",
    "    %=       a = a % 1\n"
   ]
  },
  {
   "cell_type": "code",
   "execution_count": 34,
   "metadata": {
    "collapsed": true
   },
   "outputs": [
    {
     "name": "stdout",
     "output_type": "stream",
     "text": [
      "4\n",
      "16 64\n"
     ]
    }
   ],
   "source": [
    "print(1+5-2)\n",
    "print(2**4, 4**3) \n",
    "#2 elevado a 2 e 4 elevado a 3"
   ]
  },
  {
   "cell_type": "code",
   "execution_count": 23,
   "metadata": {
    "collapsed": true
   },
   "outputs": [
    {
     "name": "stdout",
     "output_type": "stream",
     "text": [
      "20\n",
      "20.0\n"
     ]
    }
   ],
   "source": [
    "print(5*4) \n",
    "print(5.0*4) \n",
    "#multiplicação com números float resulta em números do tipo float"
   ]
  },
  {
   "cell_type": "code",
   "execution_count": 24,
   "metadata": {
    "collapsed": true
   },
   "outputs": [
    {
     "name": "stdout",
     "output_type": "stream",
     "text": [
      "5.0\n",
      "5.0\n"
     ]
    }
   ],
   "source": [
    "print(20/4)\n",
    "print(20.0/4.0)\n",
    "#na divisão clássica o resultado é sempre do tipo float"
   ]
  },
  {
   "cell_type": "code",
   "execution_count": 2,
   "metadata": {
    "collapsed": true
   },
   "outputs": [
    {
     "name": "stdout",
     "output_type": "stream",
     "text": [
      "3\n",
      "3.0\n"
     ]
    }
   ],
   "source": [
    "print(9//3) \n",
    "print(9//3.0) \n",
    "#na divisão inteira com números float resulta em números do tipo float"
   ]
  },
  {
   "cell_type": "code",
   "execution_count": 26,
   "metadata": {
    "collapsed": true
   },
   "outputs": [
    {
     "name": "stdout",
     "output_type": "stream",
     "text": [
      "3\n",
      "0\n",
      "1\n",
      "3.0\n"
     ]
    }
   ],
   "source": [
    "print(9 % 6) \n",
    "print(9 % 3)\n",
    "print(3 % 2)\n",
    "print(9.0 % 6.0)\n",
    "#no módulo com números float resulta em números do tipo float"
   ]
  },
  {
   "cell_type": "code",
   "execution_count": 27,
   "metadata": {
    "collapsed": true
   },
   "outputs": [
    {
     "name": "stdout",
     "output_type": "stream",
     "text": [
      "14.0\n"
     ]
    }
   ],
   "source": [
    "print((6 * ((9 % 6) + 100) / (2 * 11)) // 2) "
   ]
  },
  {
   "cell_type": "code",
   "execution_count": 3,
   "metadata": {
    "collapsed": true
   },
   "outputs": [
    {
     "name": "stdout",
     "output_type": "stream",
     "text": [
      "True\n",
      "False\n",
      "False\n",
      "True\n",
      "True\n",
      "False\n"
     ]
    }
   ],
   "source": [
    "print(5 > 1)\n",
    "print(5 < 1)\n",
    "print(5 >= 7)\n",
    "print(5 <= 5)\n",
    "print(5 == 5)\n",
    "print(5 != 5)"
   ]
  },
  {
   "cell_type": "code",
   "execution_count": null,
   "metadata": {},
   "outputs": [],
   "source": [
    "#escreve aqui o teu código e faz algumas experiências"
   ]
  },
  {
   "cell_type": "markdown",
   "metadata": {},
   "source": [
    "## Operadores Lógicos\n",
    "\n",
    "      Operador   \t           Exemplo\t          Resultado\n",
    "      not (negação)       not (80 >= 50)         \tFalse\n",
    "      and (e)        (80 >= 50) and (70 <= 50)   \tFalse\n",
    "      or (ou)\t     (80 >= 50) or (70 <= 50)\t   True\n",
    "\n",
    "    Vejam os seguites exemplos:"
   ]
  },
  {
   "cell_type": "code",
   "execution_count": 12,
   "metadata": {
    "collapsed": true
   },
   "outputs": [
    {
     "name": "stdout",
     "output_type": "stream",
     "text": [
      "False\n",
      "False\n"
     ]
    }
   ],
   "source": [
    "print(not (100 >= 20))\n",
    "print(not (20 <= 100))"
   ]
  },
  {
   "cell_type": "code",
   "execution_count": 13,
   "metadata": {
    "collapsed": true
   },
   "outputs": [
    {
     "name": "stdout",
     "output_type": "stream",
     "text": [
      "False\n",
      "True\n"
     ]
    }
   ],
   "source": [
    "print((100 >= 20) and (40 <= 20))\n",
    "print((100 >= 20) and (40 >= 20))\n",
    "#apenas quando ambos os argumentos são verdadeiros é que o resultado também é verdadeiro"
   ]
  },
  {
   "cell_type": "code",
   "execution_count": 14,
   "metadata": {
    "collapsed": true
   },
   "outputs": [
    {
     "name": "stdout",
     "output_type": "stream",
     "text": [
      "True\n",
      "False\n"
     ]
    }
   ],
   "source": [
    "print((100 >= 20) or (40 <= 20))\n",
    "print((100 <= 20) or (40 <= 20))\n",
    "#apenas quando ambos os argumentos são falsos é que o resultado também é falso"
   ]
  },
  {
   "cell_type": "code",
   "execution_count": null,
   "metadata": {},
   "outputs": [],
   "source": [
    "#escreve aqui o teu código e faz algumas experiências"
   ]
  },
  {
   "cell_type": "markdown",
   "metadata": {},
   "source": [
    "## Variáveis\n",
    "    As variáveis em python são definidas da seguite maneira: nome = valor (ex. a = 2, b='olá').\n",
    "    É importante perceber que existem algumas regras quando se dá nome à variável:\n",
    "        • o nome da variável deve ser composto de letras maiúsculas ou minúsculas, dígitos e/ou o caracter _ (underscore)\n",
    "        • o nome da variável deve começar com uma letra;\n",
    "        • o caracter _ (underscore) e o ' ' (espaço) oocupam o lugar de uma letra;\n",
    "        • letras maiúsculas e minúsculas são tratadas como diferentes;\n",
    "        • o nome da variável não deve ser nenhuma das palavras chave do Python (como print, and, not, or, False, True...).\n",
    "    \n",
    "    Tal como na matemática as variávei podem entrar em operações (apenas é preciso ter em atenção o tipo de dados com que estamos a trabalhar).\n",
    "    "
   ]
  },
  {
   "cell_type": "code",
   "execution_count": 15,
   "metadata": {
    "collapsed": true
   },
   "outputs": [
    {
     "name": "stdout",
     "output_type": "stream",
     "text": [
      "2   olá\n"
     ]
    }
   ],
   "source": [
    "a=2\n",
    "b='olá'\n",
    "print(a,' ', b)"
   ]
  },
  {
   "cell_type": "code",
   "execution_count": 17,
   "metadata": {
    "collapsed": true
   },
   "outputs": [
    {
     "name": "stdout",
     "output_type": "stream",
     "text": [
      "2\n",
      "4\n"
     ]
    }
   ],
   "source": [
    "var=2\n",
    "Var=4\n",
    "print(var)\n",
    "print(Var)"
   ]
  },
  {
   "cell_type": "code",
   "execution_count": 16,
   "metadata": {
    "collapsed": true
   },
   "outputs": [
    {
     "name": "stdout",
     "output_type": "stream",
     "text": [
      "1\n",
      "2\n"
     ]
    }
   ],
   "source": [
    "a = 1\n",
    "print(a)\n",
    "a = a + 1\n",
    "print(a)\n"
   ]
  },
  {
   "cell_type": "code",
   "execution_count": 28,
   "metadata": {
    "collapsed": true
   },
   "outputs": [
    {
     "name": "stdout",
     "output_type": "stream",
     "text": [
      "Oláatodos!\n",
      "Olá a todos!\n",
      "OláOlá\n"
     ]
    }
   ],
   "source": [
    "a='Olá'\n",
    "b='a'\n",
    "c='todos!'\n",
    "print(a + b + c)\n",
    "print(a, b, c, sep=\" \")   \n",
    "print(a*2)"
   ]
  },
  {
   "cell_type": "code",
   "execution_count": null,
   "metadata": {},
   "outputs": [],
   "source": [
    "#escreve aqui o teu código e faz algumas experiências"
   ]
  },
  {
   "cell_type": "markdown",
   "metadata": {},
   "source": []
  },
  {
   "attachments": {
    "a.png": {
     "image/png": "[encoded data removed]"
    }
   },
   "cell_type": "markdown",
   "metadata": {},
   "source": [
    "## Listas\n",
    "    \n",
    "    As variáveis podem conter vários elementos, passando assim a ser listas. Numa lista cada caractér tem uma posição específica, ou seja, estão associados a índices:\n",
    "        \n",
    "        Exemplo: \n",
    "    lista=[10, 20, 8, 0] \n",
    "    Lendo da esquerda para a direita os índices começam no 0, sendo por exemplo 0 o índice associado ao 10 e 2 o índice associado ao 8. \n",
    "    Lendo da direita para esquerda os índices começam do -1, sendo por exemplo -1 o índice associado ao 0 e -3 o índice associado ao 20.\n",
    "    \n",
    "    A indexação também pode estar presente em variáveis string como podem ver no exemplo a baixo:\n",
    "\n",
    "![a.png](attachment:a.png)\n",
    "\n",
    "    \n",
    "    "
   ]
  },
  {
   "cell_type": "code",
   "execution_count": 33,
   "metadata": {
    "collapsed": true
   },
   "outputs": [
    {
     "name": "stdout",
     "output_type": "stream",
     "text": [
      "[10, 20, 8, 0]\n",
      "10 10 0 8\n",
      "[10, 20, 8, 20]\n"
     ]
    }
   ],
   "source": [
    "lista=[10, 20, 8, 0] \n",
    "print(lista)\n",
    "print(lista[0], lista[-4], lista[-1], lista[2])\n",
    "lista[-1]=lista[1] \n",
    "print(lista)"
   ]
  },
  {
   "cell_type": "code",
   "execution_count": 35,
   "metadata": {
    "collapsed": true
   },
   "outputs": [
    {
     "name": "stdout",
     "output_type": "stream",
     "text": [
      "4\n"
     ]
    }
   ],
   "source": [
    "lista=[10, 20, 8, 0] \n",
    "print(len(lista)) # o comando len(object) dá o cumprimento, neste caso, da lista"
   ]
  },
  {
   "cell_type": "code",
   "execution_count": null,
   "metadata": {},
   "outputs": [],
   "source": [
    "#escreve aqui o teu código e faz algumas experiências"
   ]
  },
  {
   "cell_type": "markdown",
   "metadata": {},
   "source": [
    "    Nota importante: Para além de todas as operações que podem ser executadas com listas existem muitos métodos que podem ser aplicados nas listas:\n",
    "    Método                       Descrição\n",
    "    list.append(object)\t       Anexa o objeto ao final da lista original.\n",
    "    list.extend(list)\t         Anexa a lista que está no argumento ao final da lista original.\n",
    "    list.pop([index])\t         A indicação do índice é opcional:\n",
    "                                          Sem índice - Remove o item do final da lista;\n",
    "                                          Com o ídice preenchido - Remove o item do índice indicado.\n",
    "    list.remove(object)\t       Remove a primeira ocorrência do objeto indicado; \n",
    "                                  caso não se indique o objeto a removar ocorre erro.\n",
    "    list.reverse()\t            Inverte a lista.\n",
    "    list.sort()\t               Ordena a lista do menor para o maior.\n",
    "    list.insert(int, object)\t  Insire o objeto no índice indicado, movendo os itens para abrir espaço."
   ]
  },
  {
   "cell_type": "markdown",
   "metadata": {},
   "source": [
    "## Condições: if, in e not in\n",
    "\n",
    "#### Condição if\n",
    "    Representa a condição \"se\". Funciona da seguite maneira.\n",
    "        if certa_situação:\n",
    "            algo_acontece\n",
    "        else:\n",
    "            outra_coisa_acontece\n",
    "    \n",
    "    Ou seja, se for verdade a primeira constatação (certa_situação), acontece o que está em seguida (algo_acontece), se for falso acontece a segunda opção (outra_coisa_acontece).\n",
    "\n",
    "#### Condição in e not in\n",
    "    Como representa estar ou não estar, respetivamente. Funciona da seguite maneira.\n",
    "    se um objeto esta num grupo de objetos, o resultado é verdade, caso contrário é falso.\n",
    "\n",
    "##### Vejam os seguintes exemplos:\n",
    "    "
   ]
  },
  {
   "cell_type": "code",
   "execution_count": 40,
   "metadata": {
    "collapsed": true
   },
   "outputs": [
    {
     "name": "stdout",
     "output_type": "stream",
     "text": [
      "vai caminhar\n"
     ]
    }
   ],
   "source": [
    "está_sol = 'sim' #experimenta alterar 'sim' para 'não' e vê o que acontece\n",
    "\n",
    "if está_sol =='sim':\n",
    "    print('vai caminhar')\n",
    "else:\n",
    "    print('vê um filme')"
   ]
  },
  {
   "cell_type": "code",
   "execution_count": null,
   "metadata": {},
   "outputs": [],
   "source": [
    "x = 10\n",
    "if x == 10:\n",
    "    print(x == 10)\n",
    "if x > 5:\n",
    "    print(x > 5)\n",
    "if x < 10:\n",
    "    print(x < 10)\n",
    "else:\n",
    "    print(\"else\")"
   ]
  },
  {
   "cell_type": "code",
   "execution_count": 41,
   "metadata": {
    "collapsed": true
   },
   "outputs": [
    {
     "name": "stdout",
     "output_type": "stream",
     "text": [
      "pertece\n"
     ]
    }
   ],
   "source": [
    "lista = [1,2,3,4,5]\n",
    "a = 3\n",
    "if a in lista:\n",
    "    print('pertece')\n",
    "else:\n",
    "    print('não pertence')"
   ]
  },
  {
   "cell_type": "code",
   "execution_count": 42,
   "metadata": {
    "collapsed": true
   },
   "outputs": [
    {
     "name": "stdout",
     "output_type": "stream",
     "text": [
      "não pertence\n"
     ]
    }
   ],
   "source": [
    "lista = [1,2,3,4,5]\n",
    "a = 9\n",
    "if a in lista:\n",
    "    print('pertece')\n",
    "else:\n",
    "    print('não pertence')"
   ]
  },
  {
   "cell_type": "code",
   "execution_count": 3,
   "metadata": {},
   "outputs": [],
   "source": [
    "#escreve aqui o teu código e faz algumas experiências"
   ]
  },
  {
   "cell_type": "markdown",
   "metadata": {},
   "source": [
    "##### Exemplo do que podem vir a aprender\n",
    "Como saber se um número é primo:"
   ]
  },
  {
   "cell_type": "code",
   "execution_count": 48,
   "metadata": {
    "collapsed": true
   },
   "outputs": [
    {
     "name": "stdout",
     "output_type": "stream",
     "text": [
      "False\n"
     ]
    }
   ],
   "source": [
    "num = 6 #experimente com vários números\n",
    "a=True\n",
    "if (num==1):\n",
    "    a = False\n",
    "elif (num==2):\n",
    "    a = True\n",
    "else:\n",
    "    for i in range(2, num-1): #range repesenta um intervalo de números entre 2 (inclusivé) e num-1 (exclusivé)\n",
    "        if num % i != 0:\n",
    "            a = True\n",
    "        else: \n",
    "            a = False\n",
    "        break  #este comando faz parar a execução\n",
    "print(a)"
   ]
  },
  {
   "cell_type": "markdown",
   "metadata": {},
   "source": [
    "Saiba mais num próximo encontro!"
   ]
  }
 ],
 "metadata": {
  "kernelspec": {
   "display_name": "Python 3",
   "language": "python",
   "name": "python3"
  },
  "language_info": {
   "codemirror_mode": {
    "name": "ipython",
    "version": 3
   },
   "file_extension": ".py",
   "mimetype": "text/x-python",
   "name": "python",
   "nbconvert_exporter": "python",
   "pygments_lexer": "ipython3",
   "version": "3.8.5"
  }
 },
 "nbformat": 4,
 "nbformat_minor": 4
}
